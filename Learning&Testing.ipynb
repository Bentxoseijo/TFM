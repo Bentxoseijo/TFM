{
 "cells": [
  {
   "cell_type": "markdown",
   "metadata": {},
   "source": [
    "## LEARNING & TESTING"
   ]
  },
  {
   "cell_type": "code",
   "execution_count": 22,
   "metadata": {},
   "outputs": [],
   "source": [
    "import numpy as np\n",
    "import pandas as pd\n",
    "import os\n",
    "import re\n",
    "import matplotlib.pyplot as plt\n",
    "import networkx as nx\n",
    "from tensorflow.keras.models import Sequential\n",
    "from tensorflow.keras.layers import Embedding\n",
    "import numpy as np\n",
    "\"\"\"\n",
    "# Set display options to show all rows and columns\n",
    "pd.set_option('display.max_rows', None)\n",
    "pd.set_option('display.max_columns', None)\n",
    "\"\"\"\n",
    "import warnings\n",
    "warnings.filterwarnings('ignore')\n",
    "\n",
    "# Reset display options to default\n",
    "pd.reset_option('display.max_rows')\n",
    "pd.reset_option('display.max_columns')\n",
    "pd.reset_option('display.width')\n",
    "pd.reset_option('display.max_colwidth')\n"
   ]
  },
  {
   "cell_type": "code",
   "execution_count": 23,
   "metadata": {},
   "outputs": [],
   "source": [
    "train_csv=pd.read_csv('CSVs/Clean_Train.csv')\n",
    "test_csv=pd.read_csv('CSVs/Clean_test.csv')"
   ]
  },
  {
   "cell_type": "code",
   "execution_count": 24,
   "metadata": {},
   "outputs": [
    {
     "name": "stdout",
     "output_type": "stream",
     "text": [
      "Número de combinaciones únicas: 12615\n",
      "Valores únicos en 'Unnamed: 0': 202871\n",
      "\n",
      "Valores únicos en 'Anon Student Id': 174\n",
      "\n",
      "Valores únicos en 'Unit': 25\n",
      "\n",
      "Valores únicos en 'Section': 113\n",
      "\n",
      "Valores únicos en 'Problem Name': 495\n",
      "\n",
      "Valores únicos en 'Problem View': 21\n",
      "\n",
      "Valores únicos en 'Step Name': 4967\n",
      "\n",
      "Valores únicos en 'Correct First Attempt': 2\n",
      "\n",
      "Valores únicos en 'Dificultad': 10\n",
      "\n",
      "Valores únicos en 'Rendimiento': 5\n",
      "\n",
      "Valores únicos en 'KC_1': 92\n",
      "\n",
      "Valores únicos en 'KC_2': 45\n",
      "\n",
      "Valores únicos en 'KC_3': 36\n",
      "\n",
      "Valores únicos en 'KC_4': 16\n",
      "\n",
      "Valores únicos en 'KC_5': 6\n",
      "\n",
      "Valores únicos en 'Opportunity_1': 788\n",
      "\n",
      "Valores únicos en 'Opportunity_2': 494\n",
      "\n",
      "Valores únicos en 'Opportunity_3': 302\n",
      "\n",
      "Valores únicos en 'Opportunity_4': 55\n",
      "\n",
      "Valores únicos en 'Opportunity_5': 18\n",
      "\n",
      "Valores únicos en 'Combined': 12615\n",
      "\n"
     ]
    }
   ],
   "source": [
    "# Combinar las columnas 'Problem Name', 'Section' y 'Unit' en una nueva columna\n",
    "train_csv['Combined'] =train_csv['Step Name'] + '_' + train_csv['Problem Name'] + '_' + train_csv['Section'] + '_' + train_csv['Unit']\n",
    "\n",
    "# Obtener las combinaciones únicas\n",
    "unique_combinations = train_csv['Combined'].unique()\n",
    "\n",
    "# Contar el número de combinaciones únicas\n",
    "num_unique_combinations = len(unique_combinations)\n",
    "\n",
    "print(\"Número de combinaciones únicas:\", num_unique_combinations)\n",
    "\n",
    "# Obtener los valores únicos de cada columna\n",
    "for column in train_csv.columns:\n",
    "    unique_values = train_csv[column].unique()\n",
    "    print(f\"Valores únicos en '{column}': {len(unique_values)}\\n\")"
   ]
  },
  {
   "cell_type": "code",
   "execution_count": 25,
   "metadata": {},
   "outputs": [],
   "source": [
    "Emb_prob = Sequential()\n",
    "embedding_layer = Embedding(input_dim=5600,output_dim=64,input_length=4)\n",
    "\n",
    "Emb_alumn\n"
   ]
  }
 ],
 "metadata": {
  "kernelspec": {
   "display_name": "Python 3",
   "language": "python",
   "name": "python3"
  },
  "language_info": {
   "codemirror_mode": {
    "name": "ipython",
    "version": 3
   },
   "file_extension": ".py",
   "mimetype": "text/x-python",
   "name": "python",
   "nbconvert_exporter": "python",
   "pygments_lexer": "ipython3",
   "version": "3.11.5"
  }
 },
 "nbformat": 4,
 "nbformat_minor": 2
}
